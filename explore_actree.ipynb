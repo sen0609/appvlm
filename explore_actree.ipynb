{
 "cells": [
  {
   "cell_type": "code",
   "execution_count": 1,
   "id": "480e5f95",
   "metadata": {},
   "outputs": [
    {
     "name": "stderr",
     "output_type": "stream",
     "text": [
      "2025-04-20 19:21:20.881919: I tensorflow/core/util/port.cc:111] oneDNN custom operations are on. You may see slightly different numerical results due to floating-point round-off errors from different computation orders. To turn them off, set the environment variable `TF_ENABLE_ONEDNN_OPTS=0`.\n",
      "2025-04-20 19:21:20.997728: E tensorflow/compiler/xla/stream_executor/cuda/cuda_dnn.cc:9342] Unable to register cuDNN factory: Attempting to register factory for plugin cuDNN when one has already been registered\n",
      "2025-04-20 19:21:20.997799: E tensorflow/compiler/xla/stream_executor/cuda/cuda_fft.cc:609] Unable to register cuFFT factory: Attempting to register factory for plugin cuFFT when one has already been registered\n",
      "2025-04-20 19:21:20.997868: E tensorflow/compiler/xla/stream_executor/cuda/cuda_blas.cc:1518] Unable to register cuBLAS factory: Attempting to register factory for plugin cuBLAS when one has already been registered\n",
      "2025-04-20 19:21:21.019027: I tensorflow/core/platform/cpu_feature_guard.cc:182] This TensorFlow binary is optimized to use available CPU instructions in performance-critical operations.\n",
      "To enable the following instructions: AVX2 AVX_VNNI FMA, in other operations, rebuild TensorFlow with the appropriate compiler flags.\n"
     ]
    },
    {
     "ename": "AttributeError",
     "evalue": "'MessageFactory' object has no attribute 'GetPrototype'",
     "output_type": "error",
     "traceback": [
      "\u001b[0;31m---------------------------------------------------------------------------\u001b[0m",
      "\u001b[0;31mAttributeError\u001b[0m                            Traceback (most recent call last)",
      "\u001b[0;31mAttributeError\u001b[0m: 'MessageFactory' object has no attribute 'GetPrototype'"
     ]
    },
    {
     "name": "stderr",
     "output_type": "stream",
     "text": [
      "2025-04-20 19:21:23.327814: W tensorflow/compiler/tf2tensorrt/utils/py_utils.cc:38] TF-TRT Warning: Could not find TensorRT\n"
     ]
    },
    {
     "ename": "AttributeError",
     "evalue": "'MessageFactory' object has no attribute 'GetPrototype'",
     "output_type": "error",
     "traceback": [
      "\u001b[0;31m---------------------------------------------------------------------------\u001b[0m",
      "\u001b[0;31mAttributeError\u001b[0m                            Traceback (most recent call last)",
      "\u001b[0;31mAttributeError\u001b[0m: 'MessageFactory' object has no attribute 'GetPrototype'"
     ]
    },
    {
     "name": "stderr",
     "output_type": "stream",
     "text": [
      "/home/cs/anaconda3/envs/appvlm_tf/lib/python3.10/site-packages/google/protobuf/runtime_version.py:98: UserWarning: Protobuf gencode version 5.29.0 is exactly one major version older than the runtime version 6.30.2 at android_env/proto/a11y/android_accessibility_forest.proto. Please update the gencode to avoid compatibility violations in the next runtime release.\n",
      "  warnings.warn(\n",
      "/home/cs/anaconda3/envs/appvlm_tf/lib/python3.10/site-packages/google/protobuf/runtime_version.py:98: UserWarning: Protobuf gencode version 5.29.0 is exactly one major version older than the runtime version 6.30.2 at android_env/proto/a11y/android_accessibility_window_info.proto. Please update the gencode to avoid compatibility violations in the next runtime release.\n",
      "  warnings.warn(\n",
      "/home/cs/anaconda3/envs/appvlm_tf/lib/python3.10/site-packages/google/protobuf/runtime_version.py:98: UserWarning: Protobuf gencode version 5.29.0 is exactly one major version older than the runtime version 6.30.2 at android_env/proto/a11y/android_accessibility_tree.proto. Please update the gencode to avoid compatibility violations in the next runtime release.\n",
      "  warnings.warn(\n",
      "/home/cs/anaconda3/envs/appvlm_tf/lib/python3.10/site-packages/google/protobuf/runtime_version.py:98: UserWarning: Protobuf gencode version 5.29.0 is exactly one major version older than the runtime version 6.30.2 at android_env/proto/a11y/android_accessibility_node_info.proto. Please update the gencode to avoid compatibility violations in the next runtime release.\n",
      "  warnings.warn(\n",
      "/home/cs/anaconda3/envs/appvlm_tf/lib/python3.10/site-packages/google/protobuf/runtime_version.py:98: UserWarning: Protobuf gencode version 5.29.0 is exactly one major version older than the runtime version 6.30.2 at android_env/proto/a11y/android_accessibility_action.proto. Please update the gencode to avoid compatibility violations in the next runtime release.\n",
      "  warnings.warn(\n",
      "/home/cs/anaconda3/envs/appvlm_tf/lib/python3.10/site-packages/google/protobuf/runtime_version.py:98: UserWarning: Protobuf gencode version 5.29.0 is exactly one major version older than the runtime version 6.30.2 at android_env/proto/a11y/android_accessibility_node_info_clickable_span.proto. Please update the gencode to avoid compatibility violations in the next runtime release.\n",
      "  warnings.warn(\n",
      "/home/cs/anaconda3/envs/appvlm_tf/lib/python3.10/site-packages/google/protobuf/runtime_version.py:98: UserWarning: Protobuf gencode version 5.29.0 is exactly one major version older than the runtime version 6.30.2 at android_env/proto/a11y/rect.proto. Please update the gencode to avoid compatibility violations in the next runtime release.\n",
      "  warnings.warn(\n"
     ]
    }
   ],
   "source": [
    "import tensorflow as tf\n",
    "from android_env.proto.a11y import android_accessibility_forest_pb2\n",
    "import json"
   ]
  },
  {
   "cell_type": "code",
   "execution_count": 6,
   "id": "6cfe8999",
   "metadata": {},
   "outputs": [],
   "source": [
    "dataset = tf.data.TFRecordDataset(\"./dataset/android_control/android_control-00011-of-00020\",compression_type=\"GZIP\")"
   ]
  },
  {
   "cell_type": "code",
   "execution_count": 7,
   "id": "5c6830c1",
   "metadata": {},
   "outputs": [],
   "source": [
    "for raw_record in dataset.take(1):\n",
    "    example = tf.train.Example()\n",
    "    example.ParseFromString(raw_record.numpy())\n",
    "    # 提取字段\n",
    "    features = example.features.feature\n",
    "    accessibility_bytes = example.features.feature[\"accessibility_trees\"].bytes_list.value[0]\n",
    "    forest = android_accessibility_forest_pb2.AndroidAccessibilityForest().FromString(accessibility_bytes)\n",
    "    "
   ]
  },
  {
   "cell_type": "code",
   "execution_count": 40,
   "id": "338a6b75",
   "metadata": {},
   "outputs": [],
   "source": [
    "from android_env.proto.a11y import android_accessibility_forest_pb2\n",
    "\n",
    "# 查找包含点击点的 window\n",
    "def find_target_window(windows, x, y):\n",
    "    for window in windows:\n",
    "        bounds = window.bounds_in_screen\n",
    "        if bounds.left <= x < bounds.right and bounds.top <= y < bounds.bottom:\n",
    "            return window\n",
    "    return None\n",
    "\n",
    "# 获取该 window 中的所有节点\n",
    "def collect_nodes_from_window(window):\n",
    "    return list(window.tree.nodes)\n",
    "\n",
    "# 判断一个点是否在 bounds 中\n",
    "def is_point_inside_bounds(x, y, bounds):\n",
    "    return bounds.left <= x < bounds.right and bounds.top <= y < bounds.bottom\n",
    "\n",
    "# 找出所有包含点击点的节点\n",
    "def find_nodes_containing_point(nodes, x, y):\n",
    "    return [node for node in nodes if is_point_inside_bounds(x, y, node.bounds_in_screen)]\n",
    "\n",
    "# 判断是否具有语义信息\n",
    "def has_semantic_info(node):\n",
    "    return bool(\n",
    "        getattr(node, \"view_id_resource_name\", \"\") or\n",
    "        getattr(node, \"content_description\", \"\") or\n",
    "        getattr(node, \"text\", \"\")\n",
    "    )\n",
    "\n",
    "def find_descendant_with_text(node, all_nodes):\n",
    "    \"\"\"\n",
    "    找出该节点的所有后代中最“有语义”的那个（含 text / content_description / resource_id），\n",
    "    优先 text > content_description > view_id_resource_name\n",
    "    \"\"\"\n",
    "    best_node = None\n",
    "    best_score = -1\n",
    "\n",
    "    def dfs(n):\n",
    "        nonlocal best_node, best_score\n",
    "        score = 0\n",
    "        if getattr(n, \"text\", \"\"):\n",
    "            score += 3\n",
    "        if getattr(n, \"content_description\", \"\"):\n",
    "            score += 2\n",
    "        if getattr(n, \"view_id_resource_name\", \"\"):\n",
    "            score += 1\n",
    "        if score > best_score:\n",
    "            best_score = score\n",
    "            best_node = n\n",
    "        for cid in getattr(n, \"child_ids\", []):\n",
    "            child = next((x for x in all_nodes if x.unique_id == cid), None)\n",
    "            if child:\n",
    "                dfs(child)\n",
    "\n",
    "    dfs(node)\n",
    "    return best_node if best_score > 0 else None\n",
    "\n",
    "\n",
    "# 提取结构化信息\n",
    "def extract_node_info(node):\n",
    "    return {\n",
    "        \"unique_id\": node.unique_id,\n",
    "        \"class\": node.class_name,\n",
    "        \"package\": node.package_name,\n",
    "        \"text\": getattr(node, \"text\", \"\"),\n",
    "        \"content description\": getattr(node, \"content_description\", \"\"),\n",
    "        \"resource name\": getattr(node, \"view_id_resource_name\", \"\"),\n",
    "        \"is_clickable\": getattr(node, \"is_clickable\", False),\n",
    "    }\n",
    "\n",
    "# 从点击坐标构建 click action\n",
    "def convert_click_to_element_action(forest_bytes, x, y):\n",
    "    forest = android_accessibility_forest_pb2.AndroidAccessibilityForest()\n",
    "    forest.ParseFromString(forest_bytes)\n",
    "\n",
    "    target_window = find_target_window(forest.windows, x, y)\n",
    "    if target_window is None:\n",
    "        print(f\"❌ 没有找到包含点击点 ({x}, {y}) 的窗口\")\n",
    "        return None\n",
    "\n",
    "    all_nodes = collect_nodes_from_window(target_window)\n",
    "    matched_nodes = find_nodes_containing_point(all_nodes, x, y)\n",
    "\n",
    "    print(f\"\\n🟡 找到 {len(matched_nodes)} 个匹配点 ({x}, {y}) 的节点\")\n",
    "    for node in matched_nodes:\n",
    "        b = node.bounds_in_screen\n",
    "        print(f\"  - ID={node.unique_id} Bounds=({b.left}, {b.top}, {b.right}, {b.bottom}) Class={node.class_name}\")\n",
    "\n",
    "    if not matched_nodes:\n",
    "        return None\n",
    "\n",
    "    # 优先选择最深的节点作为目标（比如 unique_id=43）\n",
    "    target_node = max(matched_nodes, key=lambda n: getattr(n, \"depth\", 0))\n",
    "\n",
    "    # 尝试向下找更具语义的子节点（比如 unique_id=71）\n",
    "    refined_node = find_descendant_with_text(target_node, all_nodes)\n",
    "    final_node = refined_node if refined_node else target_node\n",
    "\n",
    "    print(f\"\\n🎯 最终选中的节点 ID={final_node.unique_id}, Class={final_node.class_name}\")\n",
    "    return {\n",
    "        \"action type\": \"click\",\n",
    "        \"target element\": extract_node_info(final_node)\n",
    "    }"
   ]
  },
  {
   "cell_type": "code",
   "execution_count": 44,
   "id": "c87be07b",
   "metadata": {},
   "outputs": [
    {
     "name": "stdout",
     "output_type": "stream",
     "text": [
      "\n",
      "🟡 找到 20 个匹配点 (447, 2216) 的节点\n",
      "  - ID=0 Bounds=(0, 0, 1080, 2400) Class=android.widget.FrameLayout\n",
      "  - ID=1 Bounds=(0, 0, 1080, 2400) Class=android.widget.FrameLayout\n",
      "  - ID=4 Bounds=(0, 0, 1080, 2400) Class=android.widget.FrameLayout\n",
      "  - ID=5 Bounds=(0, 0, 1080, 2400) Class=android.widget.FrameLayout\n",
      "  - ID=6 Bounds=(0, 0, 1080, 2400) Class=android.widget.FrameLayout\n",
      "  - ID=7 Bounds=(0, 0, 1080, 2400) Class=android.widget.RelativeLayout\n",
      "  - ID=10 Bounds=(0, 2095, 1080, 2337) Class=android.widget.FrameLayout\n",
      "  - ID=11 Bounds=(0, 2185, 1080, 2337) Class=android.widget.ImageView\n",
      "  - ID=15 Bounds=(0, 2095, 1080, 2337) Class=android.view.ViewGroup\n",
      "  - ID=22 Bounds=(0, 2095, 1080, 2337) Class=android.widget.FrameLayout\n",
      "  - ID=23 Bounds=(0, 2116, 1080, 2316) Class=android.widget.RelativeLayout\n",
      "  - ID=29 Bounds=(0, 2095, 1080, 2337) Class=android.widget.ImageView\n",
      "  - ID=30 Bounds=(0, 2116, 1080, 2316) Class=android.widget.LinearLayout\n",
      "  - ID=37 Bounds=(0, 2116, 1080, 2316) Class=android.widget.LinearLayout\n",
      "  - ID=40 Bounds=(0, 2116, 1080, 2316) Class=androidx.recyclerview.widget.RecyclerView\n",
      "  - ID=46 Bounds=(358, 2116, 537, 2316) Class=android.widget.FrameLayout\n",
      "  - ID=55 Bounds=(358, 2116, 537, 2316) Class=android.widget.LinearLayout\n",
      "  - ID=60 Bounds=(408, 2148, 487, 2286) Class=android.widget.LinearLayout\n",
      "  - ID=67 Bounds=(408, 2148, 487, 2227) Class=android.widget.FrameLayout\n",
      "  - ID=77 Bounds=(408, 2148, 487, 2227) Class=android.widget.ImageView\n",
      "\n",
      "🎯 最终选中的节点 ID=77, Class=android.widget.ImageView\n",
      "{'action type': 'click', 'target element': {'unique_id': 77, 'class': 'android.widget.ImageView', 'package': 'com.ticktick.task', 'text': '', 'content description': '', 'resource name': 'com.ticktick.task:id/icon_send_app', 'is_clickable': False}}\n"
     ]
    }
   ],
   "source": [
    "features = example.features.feature\n",
    "x, y = 447, 2216 # 假设点击坐标\n",
    "\n",
    "result = convert_click_to_element_action(\n",
    "    forest_bytes=features['accessibility_trees'].bytes_list.value[4],\n",
    "    x=x,\n",
    "    y=y\n",
    ")\n",
    "\n",
    "print(result)"
   ]
  }
 ],
 "metadata": {
  "kernelspec": {
   "display_name": "appvlm_tf",
   "language": "python",
   "name": "python3"
  },
  "language_info": {
   "codemirror_mode": {
    "name": "ipython",
    "version": 3
   },
   "file_extension": ".py",
   "mimetype": "text/x-python",
   "name": "python",
   "nbconvert_exporter": "python",
   "pygments_lexer": "ipython3",
   "version": "3.10.16"
  }
 },
 "nbformat": 4,
 "nbformat_minor": 5
}
