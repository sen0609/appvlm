{
 "cells": [
  {
   "cell_type": "code",
   "execution_count": 4,
   "id": "480e5f95",
   "metadata": {},
   "outputs": [],
   "source": [
    "import tensorflow as tf\n",
    "from android_env.proto.a11y import android_accessibility_forest_pb2\n",
    "import json"
   ]
  },
  {
   "cell_type": "code",
   "execution_count": 50,
   "id": "6cfe8999",
   "metadata": {},
   "outputs": [],
   "source": [
    "dataset = tf.data.TFRecordDataset(\"./dataset/android_control/android_control-00011-of-00020\",compression_type=\"GZIP\")"
   ]
  },
  {
   "cell_type": "code",
   "execution_count": 51,
   "id": "5c6830c1",
   "metadata": {},
   "outputs": [],
   "source": [
    "for raw_record in dataset.take(1):\n",
    "    example = tf.train.Example()\n",
    "    example.ParseFromString(raw_record.numpy())\n",
    "    # 提取字段\n",
    "    features = example.features.feature\n",
    "    accessibility_bytes = example.features.feature[\"accessibility_trees\"].bytes_list.value[0]\n",
    "    forest = android_accessibility_forest_pb2.AndroidAccessibilityForest().FromString(accessibility_bytes)\n",
    "    "
   ]
  },
  {
   "cell_type": "code",
   "execution_count": null,
   "id": "338a6b75",
   "metadata": {},
   "outputs": [],
   "source": [
    "from android_env.proto.a11y import android_accessibility_forest_pb2\n",
    "\n",
    "def collect_all_nodes(windows):\n",
    "    \"\"\"收集所有窗口中的所有节点\"\"\"\n",
    "    all_nodes = []\n",
    "    for window in windows:\n",
    "        for node in window.tree.nodes:\n",
    "            all_nodes.append(node)\n",
    "    return all_nodes\n",
    "\n",
    "def is_point_inside_bounds(x, y, bounds):\n",
    "    \"\"\"判断点击是否在节点 bounds 内\"\"\"\n",
    "    return (\n",
    "        bounds.left <= x <= bounds.right and\n",
    "        bounds.top <= y <= bounds.bottom\n",
    "    )\n",
    "\n",
    "def find_nodes_containing_point(nodes, x, y):\n",
    "    \"\"\"找出包含点击点的所有节点\"\"\"\n",
    "    return [node for node in nodes if is_point_inside_bounds(x, y, node.bounds_in_screen)]\n",
    "\n",
    "def has_click_action(node):\n",
    "    \"\"\"判断是否具有 click 或 long_click 行为\"\"\"\n",
    "    return any(action.id in [1, 16] for action in getattr(node, \"actions\", []))\n",
    "\n",
    "def has_semantic_info(node):\n",
    "    \"\"\"判断是否有有意义的识别信息\"\"\"\n",
    "    return bool(\n",
    "        getattr(node, \"view_id_resource_name\", \"\") or\n",
    "        getattr(node, \"content_description\", \"\")\n",
    "    )\n",
    "\n",
    "def get_best_target_node(nodes):\n",
    "    \"\"\"\n",
    "    优先返回：is_clickable=True 且有语义的节点；\n",
    "    若没有，则退而求其次选 is_clickable=True；\n",
    "    最后 fallback 到普通的深层节点\n",
    "    \"\"\"\n",
    "    semantically_clickable_nodes = [\n",
    "        node for node in nodes\n",
    "        if getattr(node, \"is_clickable\", False) and has_semantic_info(node)\n",
    "    ]\n",
    "    if semantically_clickable_nodes:\n",
    "        return max(semantically_clickable_nodes, key=lambda n: getattr(n, \"depth\", 0))\n",
    "\n",
    "    clickable_nodes = [\n",
    "        node for node in nodes\n",
    "        if getattr(node, \"is_clickable\", False)\n",
    "    ]\n",
    "    if clickable_nodes:\n",
    "        return max(clickable_nodes, key=lambda n: getattr(n, \"depth\", 0))\n",
    "\n",
    "    # fallback: 深度最大节点\n",
    "    return max(nodes, key=lambda node: getattr(node, \"depth\", 0), default=None)\n",
    "\n",
    "\n",
    "def extract_node_info(node):\n",
    "    \"\"\"提取目标元素信息\"\"\"\n",
    "    return {\n",
    "        \"class\": node.class_name,\n",
    "        \"content description\": getattr(node, \"content_description\", \"\"),\n",
    "        \"is_clickable\": getattr(node, \"is_clickable\", False),\n",
    "        \"resource name\": getattr(node, \"view_id_resource_name\", \"\"),\n",
    "        \"package\": node.package_name\n",
    "    }\n",
    "\n",
    "def convert_click_to_element_action(forest_bytes, x, y):\n",
    "    \"\"\"\n",
    "    主函数：由 accessibility tree 和 (x, y) 坐标，得到结构化点击动作\n",
    "    \"\"\"\n",
    "    forest = android_accessibility_forest_pb2.AndroidAccessibilityForest()\n",
    "    forest.ParseFromString(forest_bytes)\n",
    "\n",
    "    all_nodes = collect_all_nodes(forest.windows)\n",
    "    matched_nodes = find_nodes_containing_point(all_nodes, x, y)\n",
    "\n",
    "    if not matched_nodes:\n",
    "        print(f\"⚠️ 没有找到包含点 ({x}, {y}) 的元素\")\n",
    "        return None\n",
    "\n",
    "    target_node = get_best_target_node(matched_nodes)\n",
    "    if target_node is None:\n",
    "        print(f\"⚠️ 匹配失败：点 ({x}, {y}) 没有合适的元素\")\n",
    "        return None\n",
    "\n",
    "    return {\n",
    "        \"action type\": \"click\",\n",
    "        \"target element\": extract_node_info(target_node)\n",
    "    }\n"
   ]
  },
  {
   "cell_type": "code",
   "execution_count": 67,
   "id": "c87be07b",
   "metadata": {},
   "outputs": [
    {
     "name": "stdout",
     "output_type": "stream",
     "text": [
      "{'action type': 'click', 'target element': {'class': 'android.widget.TextView', 'content description': '', 'is_clickable': False, 'resource name': 'com.ticktick.task:id/title', 'package': 'com.ticktick.task'}}\n"
     ]
    }
   ],
   "source": [
    "features = example.features.feature\n",
    "x, y = 544, 369  # 假设点击坐标\n",
    "\n",
    "result = convert_click_to_element_action(\n",
    "    forest_bytes=features['accessibility_trees'].bytes_list.value[1],\n",
    "    x=x,\n",
    "    y=y\n",
    ")\n",
    "\n",
    "print(result)"
   ]
  }
 ],
 "metadata": {
  "kernelspec": {
   "display_name": "appvlm_tf",
   "language": "python",
   "name": "python3"
  },
  "language_info": {
   "codemirror_mode": {
    "name": "ipython",
    "version": 3
   },
   "file_extension": ".py",
   "mimetype": "text/x-python",
   "name": "python",
   "nbconvert_exporter": "python",
   "pygments_lexer": "ipython3",
   "version": "3.10.16"
  }
 },
 "nbformat": 4,
 "nbformat_minor": 5
}
